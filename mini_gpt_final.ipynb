{
  "nbformat": 4,
  "nbformat_minor": 0,
  "metadata": {
    "colab": {
      "provenance": [],
      "gpuType": "T4"
    },
    "kernelspec": {
      "name": "python3",
      "display_name": "Python 3"
    },
    "language_info": {
      "name": "python"
    },
    "accelerator": "GPU"
  },
  "cells": [
    {
      "cell_type": "markdown",
      "source": [
        "## Loading our Dataset"
      ],
      "metadata": {
        "id": "I5cO3orLu0xb"
      }
    },
    {
      "cell_type": "code",
      "source": [
        "!wget http://static.decontextualize.com/gutenberg-poetry-v001.ndjson.gz\n",
        "!gunzip gutenberg-poetry-v001.ndjson.gz\n",
        "!jq -r '.s' gutenberg-poetry-v001.ndjson > poems.txt"
      ],
      "metadata": {
        "colab": {
          "base_uri": "https://localhost:8080/"
        },
        "id": "xgsx0Mmzmgkh",
        "outputId": "686765b2-5fc6-4117-c851-3dbeafcb50b9"
      },
      "execution_count": null,
      "outputs": [
        {
          "output_type": "stream",
          "name": "stdout",
          "text": [
            "--2025-04-17 16:59:15--  http://static.decontextualize.com/gutenberg-poetry-v001.ndjson.gz\n",
            "Resolving static.decontextualize.com (static.decontextualize.com)... 207.244.116.232\n",
            "Connecting to static.decontextualize.com (static.decontextualize.com)|207.244.116.232|:80... connected.\n",
            "HTTP request sent, awaiting response... 301 Moved Permanently\n",
            "Location: https://static.decontextualize.com/gutenberg-poetry-v001.ndjson.gz [following]\n",
            "--2025-04-17 16:59:15--  https://static.decontextualize.com/gutenberg-poetry-v001.ndjson.gz\n",
            "Connecting to static.decontextualize.com (static.decontextualize.com)|207.244.116.232|:443... connected.\n",
            "HTTP request sent, awaiting response... 200 OK\n",
            "Length: 54837372 (52M) [application/x-gzip]\n",
            "Saving to: ‘gutenberg-poetry-v001.ndjson.gz’\n",
            "\n",
            "gutenberg-poetry-v0 100%[===================>]  52.30M  37.0MB/s    in 1.4s    \n",
            "\n",
            "2025-04-17 16:59:17 (37.0 MB/s) - ‘gutenberg-poetry-v001.ndjson.gz’ saved [54837372/54837372]\n",
            "\n",
            "gzip: gutenberg-poetry-v001.ndjson already exists; do you wish to overwrite (y or n)? n\n",
            "\tnot overwritten\n",
            "/bin/bash: line 1: jq: command not found\n"
          ]
        }
      ]
    },
    {
      "cell_type": "code",
      "source": [
        "import json\n",
        "\n",
        "with open('gutenberg-poetry-v001.ndjson', encoding='utf-8') as fin, \\\n",
        "     open('poems.txt', 'w', encoding='utf-8') as fout:\n",
        "    for line in fin:\n",
        "        poem = json.loads(line).get('s', '')\n",
        "        fout.write(poem + '\\n')"
      ],
      "metadata": {
        "id": "fSVJEKSdm0Ox"
      },
      "execution_count": null,
      "outputs": []
    },
    {
      "cell_type": "code",
      "source": [
        "with open('poems.txt', 'r', encoding = 'utf-8') as f:\n",
        "  text = f.read()"
      ],
      "metadata": {
        "id": "TpIIsntCnZHY"
      },
      "execution_count": null,
      "outputs": []
    },
    {
      "cell_type": "code",
      "source": [],
      "metadata": {
        "id": "NO0fMyn42Cn5"
      },
      "execution_count": null,
      "outputs": []
    },
    {
      "cell_type": "code",
      "source": [
        "print(text[:1000])"
      ],
      "metadata": {
        "id": "mjy75Z-wmqjG",
        "colab": {
          "base_uri": "https://localhost:8080/"
        },
        "outputId": "8bdd347f-0eb2-4126-b312-9d4e62f9c53e"
      },
      "execution_count": null,
      "outputs": [
        {
          "output_type": "stream",
          "name": "stdout",
          "text": [
            "The Song of Hiawatha is based on the legends and stories of\n",
            "many North American Indian tribes, but especially those of the\n",
            "Ojibway Indians of northern Michigan, Wisconsin, and Minnesota.\n",
            "They were collected by Henry Rowe Schoolcraft, the reknowned\n",
            "Schoolcraft married Jane, O-bah-bahm-wawa-ge-zhe-go-qua (The\n",
            "fur trader, and O-shau-gus-coday-way-qua (The Woman of the Green\n",
            "Prairie), who was a daughter of Waub-o-jeeg (The White Fisher),\n",
            "who was Chief of the Ojibway tribe at La Pointe, Wisconsin.\n",
            "Jane and her mother are credited with having researched,\n",
            "authenticated, and compiled much of the material Schoolcraft\n",
            "included in his Algic Researches (1839) and a revision published\n",
            "in 1856 as The Myth of Hiawatha.  It was this latter revision\n",
            "that Longfellow used as the basis for The Song of Hiawatha.\n",
            "Longfellow began Hiawatha on June 25, 1854, he completed it\n",
            "soon as the poem was  published its popularity was assured.\n",
            "However, it also was severely criticized as a plagiary of the\n",
            "Finnish epic po\n"
          ]
        }
      ]
    },
    {
      "cell_type": "markdown",
      "source": [
        "We have about a million tokens"
      ],
      "metadata": {
        "id": "jGqReo56vHnn"
      }
    },
    {
      "cell_type": "code",
      "source": [
        "# Lets get the unique characters in our text in a sorted format\n",
        "chars = sorted(list(set(text)))\n",
        "vocab_size = len(chars)\n",
        "\n",
        "print(\"\".join(chars))"
      ],
      "metadata": {
        "colab": {
          "base_uri": "https://localhost:8080/"
        },
        "id": "f6cejK-UvkjL",
        "outputId": "b1914963-2b72-4e0d-a5af-65300f6de898"
      },
      "execution_count": null,
      "outputs": [
        {
          "output_type": "stream",
          "name": "stdout",
          "text": [
            "\u0001\u0007\t\n",
            "\u001a !\"#$%&'()*+,-./0123456789:;<=>?@ABCDEFGHIJKLMNOPQRSTUVWXYZ[\\]^_`abcdefghijklmnopqrstuvwxyz{|}~ ¡£¤¦§©ª«­®°´¶·º»¼½¿ÀÁÂÃÄÅÆÇÈÉÊËÌÍÎÏÐÑÓÔÖ×ÚÜÞßàáâãäåæçèéêëìíîïðñòóôõöøùúûüýþÿāăĒēĕěħĩīĭŌōŏŒœŚśũūŭƚǣǹǽȜȝȳ̷̄̆̓;΄Ά·ΈΌΐΑΒΓΔΕΖΗΘΙΚΛΜΝΞΟΠΡΣΤΥΦΧΩάέήίαβγδεζηθικλμνξοπρςστυφχψωϊϋόύώϑϕḍṅṇṛṣṭẽἀἁἂἄἅἆἈἉἌἐἑἒἔἕἘἙἜἝἠἡἢἣἤἥἦἧἨἩἫἰἱἲἳἴἵἶἷἸἹἼἽὀὁὂὃὄὅὈὉὍὐὑὒὔὕὖὗὙὠὡὢὣὤὥὦὧὨὩὫὬὭὰάὲέὴήὶίὸόὺύὼώᾐᾗᾧᾳᾴᾶ᾽ῂῃῆῇΐῖῡῤῥῦῬῳῶῷ–—‖‘’“”„†‡…‧⁂─☞\n"
          ]
        }
      ]
    },
    {
      "cell_type": "markdown",
      "source": [
        "We can see that we have multiple special characters, uppercase and lowercase letters"
      ],
      "metadata": {
        "id": "b2nOtm0nwCoh"
      }
    },
    {
      "cell_type": "markdown",
      "source": [
        "### Building Decoder and Encoder"
      ],
      "metadata": {
        "id": "yySWKeARwNtq"
      }
    },
    {
      "cell_type": "code",
      "source": [
        "stoi = {ch: i for i,ch in enumerate(chars)}\n",
        "itos = {i: ch for i,ch in enumerate(chars)}\n",
        "\n",
        "def encode (chars):\n",
        "  return [ stoi[ch] for ch in chars]\n",
        "\n",
        "\n",
        "def decode (indices):\n",
        "  return \"\".join([itos[i] for i in indices])"
      ],
      "metadata": {
        "id": "zJ-TnqAfwLK8"
      },
      "execution_count": null,
      "outputs": []
    },
    {
      "cell_type": "code",
      "source": [
        "print(encode(\"Hello there\"))"
      ],
      "metadata": {
        "colab": {
          "base_uri": "https://localhost:8080/"
        },
        "id": "niyv5CZvxGHv",
        "outputId": "8ab6c1de-04ce-4729-e104-5c226e9e0521"
      },
      "execution_count": null,
      "outputs": [
        {
          "output_type": "stream",
          "name": "stdout",
          "text": [
            "[45, 74, 81, 81, 84, 5, 89, 77, 74, 87, 74]\n"
          ]
        }
      ]
    },
    {
      "cell_type": "code",
      "source": [
        "print(decode([45, 74, 81, 81, 84, 5, 89, 77, 74, 87, 74]))"
      ],
      "metadata": {
        "colab": {
          "base_uri": "https://localhost:8080/"
        },
        "id": "8MuBmBkFxIis",
        "outputId": "8d27555f-7df5-4d61-86d0-876d76f1c8a7"
      },
      "execution_count": null,
      "outputs": [
        {
          "output_type": "stream",
          "name": "stdout",
          "text": [
            "Hello there\n"
          ]
        }
      ]
    },
    {
      "cell_type": "markdown",
      "source": [
        "We can either have long seq with small vocab\n",
        "or short seq with big vocab\n",
        "\n",
        "Currently we are using a small vocab size (65) which will give us larger vectors for each input"
      ],
      "metadata": {
        "id": "Mpp4IvIYx9gN"
      }
    },
    {
      "cell_type": "code",
      "source": [
        "import torch\n",
        "data = torch.tensor(encode(text), dtype = torch.long)\n",
        "print(data.shape, data.dtype)"
      ],
      "metadata": {
        "colab": {
          "base_uri": "https://localhost:8080/"
        },
        "id": "F_T4bevGyF_u",
        "outputId": "b18382af-1866-4537-e650-d7a5cdccd0d6"
      },
      "execution_count": null,
      "outputs": [
        {
          "output_type": "stream",
          "name": "stdout",
          "text": [
            "torch.Size([121559783]) torch.int64\n"
          ]
        }
      ]
    },
    {
      "cell_type": "markdown",
      "source": [
        "We see that the torch size is same as the len of our dataset.\n",
        "\n",
        "This is because each character in the dataset has been assigned an integer value, keeping the overall size same."
      ],
      "metadata": {
        "id": "XgVlXavdztwE"
      }
    },
    {
      "cell_type": "markdown",
      "source": [
        "### Creating DataLoaders"
      ],
      "metadata": {
        "id": "QN3OTbs60SZi"
      }
    },
    {
      "cell_type": "code",
      "source": [
        "# Train and test splits\n",
        "data = torch.tensor(encode(text), dtype=torch.long)\n",
        "n = int(0.9*len(data)) # first 90% will be train, rest val\n",
        "train_data = data[:n]\n",
        "val_data = data[n:]\n",
        "\n",
        "# data loading\n",
        "def get_batch(split):\n",
        "    # generate a small batch of data of inputs x and targets y\n",
        "    data = train_data if split == 'train' else val_data\n",
        "    ix = torch.randint(len(data) - block_size, (batch_size,))\n",
        "    x = torch.stack([data[i:i+block_size] for i in ix])\n",
        "    y = torch.stack([data[i+1:i+block_size+1] for i in ix])\n",
        "    x, y = x.to(device), y.to(device)\n",
        "    return x, y"
      ],
      "metadata": {
        "id": "HEnaBnIa0Vtq"
      },
      "execution_count": null,
      "outputs": []
    },
    {
      "cell_type": "markdown",
      "source": [
        "Method to estimate Loss"
      ],
      "metadata": {
        "id": "7dYnLlGehrrT"
      }
    },
    {
      "cell_type": "code",
      "source": [
        "@torch.no_grad()\n",
        "def estimate_loss():\n",
        "    out = {}\n",
        "    model.eval()\n",
        "    for split in ['train', 'val']:\n",
        "        losses = torch.zeros(eval_iters)\n",
        "        for k in range(eval_iters):\n",
        "            X, Y = get_batch(split)\n",
        "            logits, loss = model(X, Y)\n",
        "            losses[k] = loss.item()\n",
        "        out[split] = losses.mean()\n",
        "    model.train()\n",
        "    return out"
      ],
      "metadata": {
        "id": "PtZauRhBhrHK"
      },
      "execution_count": null,
      "outputs": []
    },
    {
      "cell_type": "code",
      "source": [
        "import torch\n",
        "import torch.nn as nn\n",
        "from torch.nn import functional as F\n",
        "\n",
        "# hyperparameters\n",
        "batch_size = 16 # how many independent sequences will we process in parallel?\n",
        "block_size = 32 # what is the maximum context length for predictions?\n",
        "max_iters = 5000\n",
        "eval_interval = 100\n",
        "learning_rate = 1e-3\n",
        "device = 'cuda' if torch.cuda.is_available() else 'cpu'\n",
        "eval_iters = 200\n",
        "n_embd = 128\n",
        "n_head = 8\n",
        "n_layer = 8\n",
        "dropout = 0.0"
      ],
      "metadata": {
        "id": "s1jdAHPniVyz"
      },
      "execution_count": null,
      "outputs": []
    },
    {
      "cell_type": "markdown",
      "source": [
        "## Making a Self Attention Block"
      ],
      "metadata": {
        "id": "DdIeuRPzK59-"
      }
    },
    {
      "cell_type": "markdown",
      "source": [
        "Self Attention\n",
        "\n",
        "\n",
        "Query -> What are you looking for?\n",
        "\n",
        "\n",
        "Key -> What is contained in that token.\n",
        "\n",
        "\n",
        "Dot product gives affinity. Large value means the token has what query was looking for\n",
        "\n",
        "\n",
        "We divide by the scaled factor so that while appling softmax, no single value is too large or too big. Making it difficult to aggregate information from other nodes"
      ],
      "metadata": {
        "id": "edJ-uD-UhdbK"
      }
    },
    {
      "cell_type": "markdown",
      "source": [
        "Step 1: query @ key.transpose\n",
        "\n",
        "Step 2: fill lower half of the square matrix with -inf\n",
        "\n",
        "Step 3: apply softmax and dropout\n",
        "\n",
        "Step 4: multiply with value maxtrix and return\n"
      ],
      "metadata": {
        "id": "BlRwCgM7RZP2"
      }
    },
    {
      "cell_type": "code",
      "source": [
        "class Head(nn.Module):\n",
        "    def __init__(self,head_size):\n",
        "        super().__init__()\n",
        "        self.key = nn.Linear(n_embd,head_size,bias = False)\n",
        "        self.query = nn.Linear(n_embd,head_size,bias = False)\n",
        "        self.value = nn.Linear(n_embd,head_size,bias = False)\n",
        "        self.register_buffer('tril',torch.tril(torch.ones(block_size,block_size)))\n",
        "        self.dropout = nn.Dropout(dropout)\n",
        "\n",
        "    def forward(self, x):\n",
        "        B,T,C = x.shape\n",
        "        k = self.key(x)\n",
        "        q = self.query(x)\n",
        "        # transpose (-2,-1) turns B,T,C to B,C,T\n",
        "        wei = q @ k.transpose(-2,-1) * C**-0.5 # (B, T, C) @ (B, C, T) -> (B, T, T)\n",
        "        # we replace the zeroes with -inf, so they turn into 0 after softmax\n",
        "        wei = wei.masked_fill(self.tril[:T, :T] == 0, float('-inf')) # (B, T, T)\n",
        "        wei = F.softmax(wei, dim=-1) # (B, T, T)\n",
        "        wei = self.dropout(wei)\n",
        "        v = self.value(x)\n",
        "        out = wei @ v # gives us B,T,C again\n",
        "        return out\n"
      ],
      "metadata": {
        "id": "s_pk-q4nK5n_"
      },
      "execution_count": null,
      "outputs": []
    },
    {
      "cell_type": "markdown",
      "source": [
        "## Making a Multi Attention Block"
      ],
      "metadata": {
        "id": "Jff9W479Rd7M"
      }
    },
    {
      "cell_type": "markdown",
      "source": [
        "We Basically Run multiple self attention heads in parallel and concat them\n",
        "\n",
        "More heads let the model split its embedding space into multiple “views,” so each head can focus on different types of relationships (e.g. syntax vs. semantics) in parallel. That can increase the richness of what it learns—but if you keep the total embedding size fixed, adding heads shrinks each head’s dimensionality, so there’s a trade‑off and diminishing returns."
      ],
      "metadata": {
        "id": "Jn5c-Z94SUqE"
      }
    },
    {
      "cell_type": "code",
      "source": [
        "class MultiHeadAttention(nn.Module):\n",
        "  def __init__(self, num_heads, head_size):\n",
        "    super().__init__()\n",
        "    # we create num_heads heads and run them in parallel\n",
        "    self.heads = nn.ModuleList([Head(head_size) for _ in range(num_heads)])\n",
        "    self.proj = nn.Linear(n_embd,n_embd)\n",
        "    self.dropout = nn.Dropout(dropout)\n",
        "\n",
        "  def forward(self,x):\n",
        "    out = torch.cat([h(x) for h in self.heads],dim = -1)\n",
        "    out = self.proj(out)\n",
        "    out = self.dropout(out)\n",
        "    return out"
      ],
      "metadata": {
        "id": "YiFTG-LQRgGl"
      },
      "execution_count": null,
      "outputs": []
    },
    {
      "cell_type": "markdown",
      "source": [
        "## Creating a FeedForward NeuralNet"
      ],
      "metadata": {
        "id": "2i9Pv9iEctx0"
      }
    },
    {
      "cell_type": "markdown",
      "source": [
        "We create a simple feed forward neural network according to the dimensions suggested in the paper"
      ],
      "metadata": {
        "id": "3otvkVYkdFLF"
      }
    },
    {
      "cell_type": "code",
      "source": [
        "class FeedFoward(nn.Module):\n",
        "  def __init__(self,n_embd):\n",
        "    super().__init__()\n",
        "    self.net = nn.Sequential(\n",
        "            nn.Linear(n_embd, 4 * n_embd),\n",
        "            nn.ReLU(),\n",
        "            nn.Linear(4 * n_embd, n_embd),\n",
        "            nn.Dropout(dropout),\n",
        "        )\n",
        "  def forward(self,x):\n",
        "    return self.net(x)"
      ],
      "metadata": {
        "id": "rRDa7gincwjI"
      },
      "execution_count": null,
      "outputs": []
    },
    {
      "cell_type": "markdown",
      "source": [
        "## Creating an Attention Block"
      ],
      "metadata": {
        "id": "GUn4qyz5WwxB"
      }
    },
    {
      "cell_type": "markdown",
      "source": [
        "We create a Block, which has its own MultiAttention head, feedforward nn layer as well as layer norms"
      ],
      "metadata": {
        "id": "G3OVv0TqW0mL"
      }
    },
    {
      "cell_type": "code",
      "source": [
        "class Block(nn.Module):\n",
        "  def __init__(self,n_embd, n_head):\n",
        "    super().__init__()\n",
        "    head_size = n_embd // n_head\n",
        "\n",
        "    self.sa = MultiHeadAttention(n_head, head_size)\n",
        "    self.ffwd = FeedFoward(n_embd)\n",
        "    self.ln1 = nn.LayerNorm(n_embd)\n",
        "    self.ln2 = nn.LayerNorm(n_embd)\n",
        "\n",
        "  def forward(self,x):\n",
        "    x = x + self.sa(self.ln1(x))\n",
        "    x = x + self.ffwd(self.ln2(x))\n",
        "\n",
        "    return x"
      ],
      "metadata": {
        "id": "RdkFNwoxW1up"
      },
      "execution_count": null,
      "outputs": []
    },
    {
      "cell_type": "code",
      "source": [
        "class LanguageModel(nn.Module):\n",
        "\n",
        "  def __init__(self):\n",
        "        super().__init__()\n",
        "\n",
        "        self.token_embedding_table = nn.Embedding(vocab_size, n_embd)\n",
        "        self.position_embedding_table = nn.Embedding(block_size, n_embd)\n",
        "        self.blocks = nn.Sequential(*[Block(n_embd, n_head=n_head) for _ in range(n_layer)])\n",
        "        self.ln_f = nn.LayerNorm(n_embd)\n",
        "        # to transform the C dim back to vocab_size to extract logits\n",
        "        self.lm_head = nn.Linear(n_embd, vocab_size)\n",
        "\n",
        "  def forward(self, idx, targets=None):\n",
        "        B, T = idx.shape\n",
        "\n",
        "        # idx and targets are both (B,T) tensor of integers\n",
        "        tok_emb = self.token_embedding_table(idx) # (B,T,C)\n",
        "        pos_emb = self.position_embedding_table(torch.arange(T, device=device)) # (T,C)\n",
        "        x = tok_emb + pos_emb # (B,T,C)\n",
        "        x = self.blocks(x) # (B,T,C)\n",
        "        x = self.ln_f(x) # (B,T,C)\n",
        "        logits = self.lm_head(x) # (B,T,vocab_size)\n",
        "\n",
        "        if targets is None:\n",
        "            loss = None\n",
        "        else:\n",
        "            B, T, C = logits.shape\n",
        "            logits = logits.view(B*T, C)\n",
        "            targets = targets.view(B*T)\n",
        "            loss = F.cross_entropy(logits, targets)\n",
        "\n",
        "        return logits, loss\n",
        "\n",
        "  def generate(self, idx, max_new_tokens):\n",
        "        # idx is (B, T) array of indices in the current context\n",
        "        for _ in range(max_new_tokens):\n",
        "            # crop idx to the last block_size tokens\n",
        "            idx_cond = idx[:, -block_size:]\n",
        "            # get the predictions\n",
        "            logits, loss = self(idx_cond)\n",
        "            # focus only on the last time step\n",
        "            logits = logits[:, -1, :] # becomes (B, C)\n",
        "            # apply softmax to get probabilities\n",
        "            probs = F.softmax(logits, dim=-1) # (B, C)\n",
        "            # sample from the distribution\n",
        "            idx_next = torch.multinomial(probs, num_samples=1) # (B, 1)\n",
        "            # append sampled index to the running sequence\n",
        "            idx = torch.cat((idx, idx_next), dim=1) # (B, T+1)\n",
        "        return idx"
      ],
      "metadata": {
        "id": "tFpItidGeP7n"
      },
      "execution_count": null,
      "outputs": []
    },
    {
      "cell_type": "code",
      "source": [
        "model = LanguageModel()\n",
        "m = model.to(device)\n",
        "# print the number of parameters in the model\n",
        "print(sum(p.numel() for p in m.parameters())/1e6, 'M parameters')\n",
        "\n",
        "# create a PyTorch optimizer\n",
        "optimizer = torch.optim.AdamW(model.parameters(), lr=learning_rate)\n",
        "\n",
        "for iter in range(max_iters):\n",
        "\n",
        "    # every once in a while evaluate the loss on train and val sets\n",
        "    if iter % eval_interval == 0 or iter == max_iters - 1:\n",
        "        losses = estimate_loss()\n",
        "        print(f\"step {iter}: train loss {losses['train']:.4f}, val loss {losses['val']:.4f}\")\n",
        "\n",
        "    # sample a batch of data\n",
        "    xb, yb = get_batch('train')\n",
        "\n",
        "    # evaluate the loss\n",
        "    logits, loss = model(xb, yb)\n",
        "    optimizer.zero_grad(set_to_none=True)\n",
        "    loss.backward()\n",
        "    optimizer.step()\n",
        "\n",
        "# generate from the model\n",
        "context = torch.zeros((1, 1), dtype=torch.long, device=device)\n",
        "print(decode(m.generate(context, max_new_tokens=2000)[0].tolist()))"
      ],
      "metadata": {
        "colab": {
          "base_uri": "https://localhost:8080/"
        },
        "id": "s7Ags_RZiJjV",
        "outputId": "3dd45904-5a8f-4b85-ccb1-dfcd634d9b18"
      },
      "execution_count": null,
      "outputs": [
        {
          "output_type": "stream",
          "name": "stdout",
          "text": [
            "1.693597 M parameters\n",
            "step 0: train loss 6.2193, val loss 6.2207\n",
            "step 100: train loss 2.5466, val loss 2.6080\n",
            "step 200: train loss 2.4395, val loss 2.4932\n",
            "step 300: train loss 2.3719, val loss 2.4155\n",
            "step 400: train loss 2.3208, val loss 2.3587\n",
            "step 500: train loss 2.2461, val loss 2.3053\n",
            "step 600: train loss 2.2010, val loss 2.2494\n",
            "step 700: train loss 2.1572, val loss 2.2287\n",
            "step 800: train loss 2.1257, val loss 2.1786\n",
            "step 900: train loss 2.1033, val loss 2.1556\n",
            "step 1000: train loss 2.0553, val loss 2.1336\n",
            "step 1100: train loss 2.0565, val loss 2.1221\n",
            "step 1200: train loss 2.0349, val loss 2.0986\n",
            "step 1300: train loss 2.0330, val loss 2.0926\n",
            "step 1400: train loss 1.9820, val loss 2.0559\n",
            "step 1500: train loss 1.9975, val loss 2.0468\n",
            "step 1600: train loss 1.9767, val loss 2.0207\n",
            "step 1700: train loss 1.9615, val loss 2.0256\n",
            "step 1800: train loss 1.9546, val loss 2.0107\n",
            "step 1900: train loss 1.9416, val loss 2.0200\n",
            "step 2000: train loss 1.9384, val loss 1.9952\n",
            "step 2100: train loss 1.9261, val loss 1.9953\n",
            "step 2200: train loss 1.9309, val loss 1.9908\n",
            "step 2300: train loss 1.9299, val loss 1.9959\n",
            "step 2400: train loss 1.9065, val loss 1.9705\n",
            "step 2500: train loss 1.8914, val loss 1.9479\n",
            "step 2600: train loss 1.8982, val loss 1.9632\n",
            "step 2700: train loss 1.8905, val loss 1.9538\n",
            "step 2800: train loss 1.8805, val loss 1.9567\n",
            "step 2900: train loss 1.8670, val loss 1.9398\n",
            "step 3000: train loss 1.8790, val loss 1.9338\n",
            "step 3100: train loss 1.8584, val loss 1.9208\n",
            "step 3200: train loss 1.8631, val loss 1.9192\n",
            "step 3300: train loss 1.8631, val loss 1.9275\n",
            "step 3400: train loss 1.8506, val loss 1.9079\n",
            "step 3500: train loss 1.8535, val loss 1.9161\n",
            "step 3600: train loss 1.8594, val loss 1.9048\n",
            "step 3700: train loss 1.8323, val loss 1.9070\n",
            "step 3800: train loss 1.8335, val loss 1.9025\n",
            "step 3900: train loss 1.8246, val loss 1.8862\n",
            "step 4000: train loss 1.8259, val loss 1.9058\n",
            "step 4100: train loss 1.8273, val loss 1.8852\n",
            "step 4200: train loss 1.8327, val loss 1.8843\n",
            "step 4300: train loss 1.8189, val loss 1.8836\n",
            "step 4400: train loss 1.8141, val loss 1.8768\n",
            "step 4500: train loss 1.8070, val loss 1.8897\n",
            "step 4600: train loss 1.7995, val loss 1.8666\n",
            "step 4700: train loss 1.8035, val loss 1.8868\n",
            "step 4800: train loss 1.8074, val loss 1.8760\n",
            "step 4900: train loss 1.8089, val loss 1.8858\n",
            "step 4999: train loss 1.7975, val loss 1.8581\n",
            "\u0001 and wsome devolt’r ring\n",
            "Gods supple means tove trove.\n",
            "A’amonh recleep als the usate to drash'd:\n",
            "Stord the wears damest of kindly,\n",
            "Yet a migner-which skip she seap what clemes the\n",
            "wholes.' agoon the old the away lend?\n",
            "Oh, their sounds fruited care?\n",
            "When the Gallives thick to sake stains,\n",
            "Or slife the kiss, seven'd out all,\n",
            "And with son! Lood happius swifted,\n",
            "and the phaste airling\n",
            "With from trossings, shoulder-say\n",
            "So, and not sweet on the gears with and' this most.\n",
            "Unshes like the tark, from the prevuled lefts and gravants lust\n",
            "My buides their pluse of ore retreator mistermes tide,\n",
            "Out from the die, that shoring in writter, and to their wind from the day,\n",
            "That the plees he Heart the ceken had tide,\n",
            "Here daunters-bread, a in glief, when from the\n",
            "full word fow all Brodances prest usi wroken\n",
            "Our stops on his sight smoke on the stake,\n",
            "I was phearway!\n",
            "Or thought the Space obsea cievencen, for onward plaguing,\n",
            "I keeps strip and at the culre.\n",
            "Ye host-handied to Der, is charied,\n",
            "That rain is worthd conposen.]\n",
            "The weep in the worre, to his counded spread,\n",
            "It nature all a towner to members wheven suils\n",
            "My tross's fresh the worth refly,\n",
            "Which then wenped at on mion\n",
            "The old verstrengeds, scame by with\n",
            "Louds smail.\n",
            "I the world's shape saided here best be\n",
            "Fuxs fisness of that bled never may intoet thou emple;\n",
            "In fear they chapely teat. The Lyve ways\n",
            "In the flow, may the Acharden hund and liveds sky;\n",
            "And fearething tauning, that sight to Smonquide,\n",
            "She worths face went hearts, the garned Broten\n",
            "forthing mountains wood;\n",
            "And then he time thwarse from the bringfles. Face-thrided, with the never tenerrous ponters,\n",
            "--out hold the simple had clitted a days,\n",
            "Nor mellower fares of oars holde\n",
            "The stop of doth swettly tunstrite,\n",
            "Spick-shanding nause wisdams sprink.”\n",
            "For the nother waJnes Lenshaves,\n",
            "Tye fear from from the in which frave\n",
            "And dekned hope, which, men know,\n",
            "Among a habrited hour, regenned the openly shout\n",
            "The Teneman do it more of forgetings of apprive.\n",
            "And fast of my childe Bla\n"
          ]
        }
      ]
    }
  ]
}